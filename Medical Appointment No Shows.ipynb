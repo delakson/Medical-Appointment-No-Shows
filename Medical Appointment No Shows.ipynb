{
 "cells": [
  {
   "cell_type": "markdown",
   "id": "3abdedd3",
   "metadata": {},
   "source": [
    "# Medical Appointment No Shows Analysis\n",
    "\n",
    "This dataset collects information from 100k medical appointments in Brazil and is focused on the question of whether or not patients show up for their appointment.\n",
    "\n",
    "## 1. Problem Definition\n",
    "\n",
    "In a statement,\n",
    ">1. Using the python libraries such pandas, numpy ,matplotlib infer or draw obsevation as patients do not show up for their medical appointment\n",
    "\n",
    ">2.  Parsing the data  : our main Target( Its the No_Show column) , we relate it to other important features to draw one or two questions and draw conclutions\n",
    "\n",
    "## 2. Data\n",
    "Originally, the dataset is available on Kaggle.https://www.kaggle.com/datasets/joniarroba/noshowappointments \n",
    "\n",
    "\n",
    "## 3. Features\n",
    "\n",
    "This is where you'll get different infomation about each of the features in your data.You can do this via doing your own  research(such as looking at the link above or by talking to a subject matter expert(someone who knows about the dataset).\n",
    "\n",
    "**Data Dictionary**\n",
    "\n",
    "1. Patient Id - Identification of a patient\n",
    "2. Appointment ID - Identification of each appointment\n",
    "3. Gender Male or Female - Female is the greater proportion, woman takes way more care of they health in comparison to \n",
    "4. Appointment Day - The day of the actuall appointment, when they have to visit the doctor.\n",
    "\n",
    "5. Scheduled Day - The day someone called or registered the appointment, this is before appointment of course.\n",
    "6. Age - How old is the patient.\n",
    "\n",
    "7. Neighbourhood - Where the appointment takes place.\n",
    "\n",
    "8. Scholarship - True of False . Observation, this is a broad topic, consider reading this article https://en.wikipedia.org/wiki/Bolsa_Fam%C3%ADlia\n",
    "\n",
    "9. Hipertension - True or False\n",
    "\n",
    "10. Diabetes - True or False\n",
    "11. Alcoholism - True or False\n",
    "12. Handcap - True or False\n",
    "13. SMS_received -1 or more messages sent to the patient.\n",
    "14. No-show - True or False\n",
    "\n"
   ]
  },
  {
   "cell_type": "markdown",
   "id": "556a62f0",
   "metadata": {},
   "source": [
    "## Preparing the tools\n",
    "\n",
    "we're going to use pandas,matplotlib and numpy for data analysis and manipulation"
   ]
  },
  {
   "cell_type": "code",
   "execution_count": 1,
   "id": "c276fa76",
   "metadata": {},
   "outputs": [],
   "source": [
    "# Import all the tools we need\n",
    "\n",
    "# Regular EDA(Exploratory Data Analysis) and plotting libraries\n",
    "import numpy as np\n",
    "import pandas as pd\n",
    "import matplotlib.pyplot as plt\n",
    "import seaborn as sns\n",
    "\n",
    "# we want our plots to appear inside the notebook\n",
    "%matplotlib inline \n"
   ]
  },
  {
   "cell_type": "markdown",
   "id": "48acbdaf",
   "metadata": {},
   "source": [
    "## Load data"
   ]
  },
  {
   "cell_type": "code",
   "execution_count": 2,
   "id": "9c2d11ac",
   "metadata": {},
   "outputs": [
    {
     "data": {
      "text/plain": [
       "(110527, 14)"
      ]
     },
     "execution_count": 2,
     "metadata": {},
     "output_type": "execute_result"
    }
   ],
   "source": [
    "df = pd.read_csv('KaggleV2-May-2016.csv')\n",
    "df.shape"
   ]
  },
  {
   "cell_type": "markdown",
   "id": "1b9ddb72",
   "metadata": {},
   "source": [
    "## Data Wrangling \n",
    "\n",
    "The goal here is to find out more about the data and become a subject matter expert on the dataset we're working with.\n",
    "\n",
    "1. what kind of data do we have and how do we treat differnt types?\n",
    "2. what's missing from the data and  how do we deal with it?\n",
    "3. where are the outliers and why should you care about them?\n",
    "4. How can we add, change or remove features to get more out of your data?"
   ]
  },
  {
   "cell_type": "code",
   "execution_count": 3,
   "id": "7b1123d8",
   "metadata": {},
   "outputs": [
    {
     "data": {
      "text/html": [
       "<div>\n",
       "<style scoped>\n",
       "    .dataframe tbody tr th:only-of-type {\n",
       "        vertical-align: middle;\n",
       "    }\n",
       "\n",
       "    .dataframe tbody tr th {\n",
       "        vertical-align: top;\n",
       "    }\n",
       "\n",
       "    .dataframe thead th {\n",
       "        text-align: right;\n",
       "    }\n",
       "</style>\n",
       "<table border=\"1\" class=\"dataframe\">\n",
       "  <thead>\n",
       "    <tr style=\"text-align: right;\">\n",
       "      <th></th>\n",
       "      <th>PatientId</th>\n",
       "      <th>AppointmentID</th>\n",
       "      <th>Gender</th>\n",
       "      <th>ScheduledDay</th>\n",
       "      <th>AppointmentDay</th>\n",
       "      <th>Age</th>\n",
       "      <th>Neighbourhood</th>\n",
       "      <th>Scholarship</th>\n",
       "      <th>Hipertension</th>\n",
       "      <th>Diabetes</th>\n",
       "      <th>Alcoholism</th>\n",
       "      <th>Handcap</th>\n",
       "      <th>SMS_received</th>\n",
       "      <th>No-show</th>\n",
       "    </tr>\n",
       "  </thead>\n",
       "  <tbody>\n",
       "    <tr>\n",
       "      <th>0</th>\n",
       "      <td>2.987250e+13</td>\n",
       "      <td>5642903</td>\n",
       "      <td>F</td>\n",
       "      <td>2016-04-29T18:38:08Z</td>\n",
       "      <td>2016-04-29T00:00:00Z</td>\n",
       "      <td>62</td>\n",
       "      <td>JARDIM DA PENHA</td>\n",
       "      <td>0</td>\n",
       "      <td>1</td>\n",
       "      <td>0</td>\n",
       "      <td>0</td>\n",
       "      <td>0</td>\n",
       "      <td>0</td>\n",
       "      <td>No</td>\n",
       "    </tr>\n",
       "    <tr>\n",
       "      <th>1</th>\n",
       "      <td>5.589978e+14</td>\n",
       "      <td>5642503</td>\n",
       "      <td>M</td>\n",
       "      <td>2016-04-29T16:08:27Z</td>\n",
       "      <td>2016-04-29T00:00:00Z</td>\n",
       "      <td>56</td>\n",
       "      <td>JARDIM DA PENHA</td>\n",
       "      <td>0</td>\n",
       "      <td>0</td>\n",
       "      <td>0</td>\n",
       "      <td>0</td>\n",
       "      <td>0</td>\n",
       "      <td>0</td>\n",
       "      <td>No</td>\n",
       "    </tr>\n",
       "    <tr>\n",
       "      <th>2</th>\n",
       "      <td>4.262962e+12</td>\n",
       "      <td>5642549</td>\n",
       "      <td>F</td>\n",
       "      <td>2016-04-29T16:19:04Z</td>\n",
       "      <td>2016-04-29T00:00:00Z</td>\n",
       "      <td>62</td>\n",
       "      <td>MATA DA PRAIA</td>\n",
       "      <td>0</td>\n",
       "      <td>0</td>\n",
       "      <td>0</td>\n",
       "      <td>0</td>\n",
       "      <td>0</td>\n",
       "      <td>0</td>\n",
       "      <td>No</td>\n",
       "    </tr>\n",
       "    <tr>\n",
       "      <th>3</th>\n",
       "      <td>8.679512e+11</td>\n",
       "      <td>5642828</td>\n",
       "      <td>F</td>\n",
       "      <td>2016-04-29T17:29:31Z</td>\n",
       "      <td>2016-04-29T00:00:00Z</td>\n",
       "      <td>8</td>\n",
       "      <td>PONTAL DE CAMBURI</td>\n",
       "      <td>0</td>\n",
       "      <td>0</td>\n",
       "      <td>0</td>\n",
       "      <td>0</td>\n",
       "      <td>0</td>\n",
       "      <td>0</td>\n",
       "      <td>No</td>\n",
       "    </tr>\n",
       "    <tr>\n",
       "      <th>4</th>\n",
       "      <td>8.841186e+12</td>\n",
       "      <td>5642494</td>\n",
       "      <td>F</td>\n",
       "      <td>2016-04-29T16:07:23Z</td>\n",
       "      <td>2016-04-29T00:00:00Z</td>\n",
       "      <td>56</td>\n",
       "      <td>JARDIM DA PENHA</td>\n",
       "      <td>0</td>\n",
       "      <td>1</td>\n",
       "      <td>1</td>\n",
       "      <td>0</td>\n",
       "      <td>0</td>\n",
       "      <td>0</td>\n",
       "      <td>No</td>\n",
       "    </tr>\n",
       "  </tbody>\n",
       "</table>\n",
       "</div>"
      ],
      "text/plain": [
       "      PatientId  AppointmentID Gender          ScheduledDay  \\\n",
       "0  2.987250e+13        5642903      F  2016-04-29T18:38:08Z   \n",
       "1  5.589978e+14        5642503      M  2016-04-29T16:08:27Z   \n",
       "2  4.262962e+12        5642549      F  2016-04-29T16:19:04Z   \n",
       "3  8.679512e+11        5642828      F  2016-04-29T17:29:31Z   \n",
       "4  8.841186e+12        5642494      F  2016-04-29T16:07:23Z   \n",
       "\n",
       "         AppointmentDay  Age      Neighbourhood  Scholarship  Hipertension  \\\n",
       "0  2016-04-29T00:00:00Z   62    JARDIM DA PENHA            0             1   \n",
       "1  2016-04-29T00:00:00Z   56    JARDIM DA PENHA            0             0   \n",
       "2  2016-04-29T00:00:00Z   62      MATA DA PRAIA            0             0   \n",
       "3  2016-04-29T00:00:00Z    8  PONTAL DE CAMBURI            0             0   \n",
       "4  2016-04-29T00:00:00Z   56    JARDIM DA PENHA            0             1   \n",
       "\n",
       "   Diabetes  Alcoholism  Handcap  SMS_received No-show  \n",
       "0         0           0        0             0      No  \n",
       "1         0           0        0             0      No  \n",
       "2         0           0        0             0      No  \n",
       "3         0           0        0             0      No  \n",
       "4         1           0        0             0      No  "
      ]
     },
     "execution_count": 3,
     "metadata": {},
     "output_type": "execute_result"
    }
   ],
   "source": [
    "df.head()"
   ]
  },
  {
   "cell_type": "code",
   "execution_count": 4,
   "id": "0752072e",
   "metadata": {},
   "outputs": [
    {
     "data": {
      "text/plain": [
       "Index(['PatientId', 'AppointmentID', 'Gender', 'ScheduledDay',\n",
       "       'AppointmentDay', 'Age', 'Neighbourhood', 'Scholarship', 'Hipertension',\n",
       "       'Diabetes', 'Alcoholism', 'Handcap', 'SMS_received', 'No-show'],\n",
       "      dtype='object')"
      ]
     },
     "execution_count": 4,
     "metadata": {},
     "output_type": "execute_result"
    }
   ],
   "source": [
    "df.columns # checking the features"
   ]
  },
  {
   "cell_type": "code",
   "execution_count": 5,
   "id": "a8a1ec20",
   "metadata": {},
   "outputs": [
    {
     "name": "stdout",
     "output_type": "stream",
     "text": [
      "<class 'pandas.core.frame.DataFrame'>\n",
      "RangeIndex: 110527 entries, 0 to 110526\n",
      "Data columns (total 14 columns):\n",
      " #   Column          Non-Null Count   Dtype  \n",
      "---  ------          --------------   -----  \n",
      " 0   PatientId       110527 non-null  float64\n",
      " 1   AppointmentID   110527 non-null  int64  \n",
      " 2   Gender          110527 non-null  object \n",
      " 3   ScheduledDay    110527 non-null  object \n",
      " 4   AppointmentDay  110527 non-null  object \n",
      " 5   Age             110527 non-null  int64  \n",
      " 6   Neighbourhood   110527 non-null  object \n",
      " 7   Scholarship     110527 non-null  int64  \n",
      " 8   Hipertension    110527 non-null  int64  \n",
      " 9   Diabetes        110527 non-null  int64  \n",
      " 10  Alcoholism      110527 non-null  int64  \n",
      " 11  Handcap         110527 non-null  int64  \n",
      " 12  SMS_received    110527 non-null  int64  \n",
      " 13  No-show         110527 non-null  object \n",
      "dtypes: float64(1), int64(8), object(5)\n",
      "memory usage: 11.8+ MB\n"
     ]
    }
   ],
   "source": [
    "df.info()"
   ]
  },
  {
   "cell_type": "code",
   "execution_count": 6,
   "id": "9cc1a270",
   "metadata": {},
   "outputs": [
    {
     "data": {
      "text/plain": [
       "0"
      ]
     },
     "execution_count": 6,
     "metadata": {},
     "output_type": "execute_result"
    }
   ],
   "source": [
    "sum(df.duplicated())"
   ]
  },
  {
   "cell_type": "code",
   "execution_count": 7,
   "id": "17665732",
   "metadata": {},
   "outputs": [
    {
     "data": {
      "text/plain": [
       "PatientId         0\n",
       "AppointmentID     0\n",
       "Gender            0\n",
       "ScheduledDay      0\n",
       "AppointmentDay    0\n",
       "Age               0\n",
       "Neighbourhood     0\n",
       "Scholarship       0\n",
       "Hipertension      0\n",
       "Diabetes          0\n",
       "Alcoholism        0\n",
       "Handcap           0\n",
       "SMS_received      0\n",
       "No-show           0\n",
       "dtype: int64"
      ]
     },
     "execution_count": 7,
     "metadata": {},
     "output_type": "execute_result"
    }
   ],
   "source": [
    "df.isna().sum() # Checking for missing data"
   ]
  },
  {
   "cell_type": "markdown",
   "id": "c3ead547",
   "metadata": {},
   "source": [
    "The above indicate there re no null value and no duplicate value"
   ]
  },
  {
   "cell_type": "code",
   "execution_count": 8,
   "id": "7976e75c",
   "metadata": {},
   "outputs": [
    {
     "data": {
      "text/plain": [
       "PatientId        object\n",
       "AppointmentID    object\n",
       "dtype: object"
      ]
     },
     "execution_count": 8,
     "metadata": {},
     "output_type": "execute_result"
    }
   ],
   "source": [
    "# From th data info,\"PatientId\" ,AppointmentID are  unique to the patient and  will be converted to string\n",
    "\n",
    "df.PatientId = df.PatientId.astype('str')\n",
    "df.AppointmentID  = df.AppointmentID .astype('str')\n",
    "df[['PatientId','AppointmentID']].dtypes"
   ]
  },
  {
   "cell_type": "code",
   "execution_count": 9,
   "id": "9182df11",
   "metadata": {},
   "outputs": [
    {
     "data": {
      "text/plain": [
       "ScheduledDay      datetime64[ns, UTC]\n",
       "AppointmentDay    datetime64[ns, UTC]\n",
       "dtype: object"
      ]
     },
     "execution_count": 9,
     "metadata": {},
     "output_type": "execute_result"
    }
   ],
   "source": [
    "# From th data info,ScheduledDay,AppointmentDay are str(object)  will be converted to datetime type\n",
    "\n",
    "df.ScheduledDay = pd.to_datetime(df.ScheduledDay)\n",
    "df.AppointmentDay = pd.to_datetime(df.AppointmentDay)\n",
    "df[['ScheduledDay','AppointmentDay']].dtypes"
   ]
  },
  {
   "cell_type": "code",
   "execution_count": 10,
   "id": "f183c06b",
   "metadata": {},
   "outputs": [],
   "source": [
    "# Rename 'No-show' column as 'Show' and values to 1 or 0\n",
    "df = df.rename(columns={\"No-show\": \"Show\"})\n",
    "df['Show'] = df['Show'].replace({'No': 1, 'Yes': 0}) # 1: patient show up , 0: patient didn't show up"
   ]
  },
  {
   "cell_type": "code",
   "execution_count": 11,
   "id": "97f005ba",
   "metadata": {},
   "outputs": [
    {
     "data": {
      "text/html": [
       "<div>\n",
       "<style scoped>\n",
       "    .dataframe tbody tr th:only-of-type {\n",
       "        vertical-align: middle;\n",
       "    }\n",
       "\n",
       "    .dataframe tbody tr th {\n",
       "        vertical-align: top;\n",
       "    }\n",
       "\n",
       "    .dataframe thead th {\n",
       "        text-align: right;\n",
       "    }\n",
       "</style>\n",
       "<table border=\"1\" class=\"dataframe\">\n",
       "  <thead>\n",
       "    <tr style=\"text-align: right;\">\n",
       "      <th></th>\n",
       "      <th>PatientId</th>\n",
       "      <th>AppointmentID</th>\n",
       "      <th>Gender</th>\n",
       "      <th>ScheduledDay</th>\n",
       "      <th>AppointmentDay</th>\n",
       "      <th>Age</th>\n",
       "      <th>Neighbourhood</th>\n",
       "      <th>Scholarship</th>\n",
       "      <th>Hipertension</th>\n",
       "      <th>Diabetes</th>\n",
       "      <th>Alcoholism</th>\n",
       "      <th>Handcap</th>\n",
       "      <th>SMS_received</th>\n",
       "      <th>Show</th>\n",
       "    </tr>\n",
       "  </thead>\n",
       "  <tbody>\n",
       "    <tr>\n",
       "      <th>0</th>\n",
       "      <td>29872499824296.0</td>\n",
       "      <td>5642903</td>\n",
       "      <td>F</td>\n",
       "      <td>2016-04-29 18:38:08+00:00</td>\n",
       "      <td>2016-04-29 00:00:00+00:00</td>\n",
       "      <td>62</td>\n",
       "      <td>JARDIM DA PENHA</td>\n",
       "      <td>0</td>\n",
       "      <td>1</td>\n",
       "      <td>0</td>\n",
       "      <td>0</td>\n",
       "      <td>0</td>\n",
       "      <td>0</td>\n",
       "      <td>1</td>\n",
       "    </tr>\n",
       "    <tr>\n",
       "      <th>1</th>\n",
       "      <td>558997776694438.0</td>\n",
       "      <td>5642503</td>\n",
       "      <td>M</td>\n",
       "      <td>2016-04-29 16:08:27+00:00</td>\n",
       "      <td>2016-04-29 00:00:00+00:00</td>\n",
       "      <td>56</td>\n",
       "      <td>JARDIM DA PENHA</td>\n",
       "      <td>0</td>\n",
       "      <td>0</td>\n",
       "      <td>0</td>\n",
       "      <td>0</td>\n",
       "      <td>0</td>\n",
       "      <td>0</td>\n",
       "      <td>1</td>\n",
       "    </tr>\n",
       "    <tr>\n",
       "      <th>2</th>\n",
       "      <td>4262962299951.0</td>\n",
       "      <td>5642549</td>\n",
       "      <td>F</td>\n",
       "      <td>2016-04-29 16:19:04+00:00</td>\n",
       "      <td>2016-04-29 00:00:00+00:00</td>\n",
       "      <td>62</td>\n",
       "      <td>MATA DA PRAIA</td>\n",
       "      <td>0</td>\n",
       "      <td>0</td>\n",
       "      <td>0</td>\n",
       "      <td>0</td>\n",
       "      <td>0</td>\n",
       "      <td>0</td>\n",
       "      <td>1</td>\n",
       "    </tr>\n",
       "    <tr>\n",
       "      <th>3</th>\n",
       "      <td>867951213174.0</td>\n",
       "      <td>5642828</td>\n",
       "      <td>F</td>\n",
       "      <td>2016-04-29 17:29:31+00:00</td>\n",
       "      <td>2016-04-29 00:00:00+00:00</td>\n",
       "      <td>8</td>\n",
       "      <td>PONTAL DE CAMBURI</td>\n",
       "      <td>0</td>\n",
       "      <td>0</td>\n",
       "      <td>0</td>\n",
       "      <td>0</td>\n",
       "      <td>0</td>\n",
       "      <td>0</td>\n",
       "      <td>1</td>\n",
       "    </tr>\n",
       "    <tr>\n",
       "      <th>4</th>\n",
       "      <td>8841186448183.0</td>\n",
       "      <td>5642494</td>\n",
       "      <td>F</td>\n",
       "      <td>2016-04-29 16:07:23+00:00</td>\n",
       "      <td>2016-04-29 00:00:00+00:00</td>\n",
       "      <td>56</td>\n",
       "      <td>JARDIM DA PENHA</td>\n",
       "      <td>0</td>\n",
       "      <td>1</td>\n",
       "      <td>1</td>\n",
       "      <td>0</td>\n",
       "      <td>0</td>\n",
       "      <td>0</td>\n",
       "      <td>1</td>\n",
       "    </tr>\n",
       "  </tbody>\n",
       "</table>\n",
       "</div>"
      ],
      "text/plain": [
       "           PatientId AppointmentID Gender              ScheduledDay  \\\n",
       "0   29872499824296.0       5642903      F 2016-04-29 18:38:08+00:00   \n",
       "1  558997776694438.0       5642503      M 2016-04-29 16:08:27+00:00   \n",
       "2    4262962299951.0       5642549      F 2016-04-29 16:19:04+00:00   \n",
       "3     867951213174.0       5642828      F 2016-04-29 17:29:31+00:00   \n",
       "4    8841186448183.0       5642494      F 2016-04-29 16:07:23+00:00   \n",
       "\n",
       "             AppointmentDay  Age      Neighbourhood  Scholarship  \\\n",
       "0 2016-04-29 00:00:00+00:00   62    JARDIM DA PENHA            0   \n",
       "1 2016-04-29 00:00:00+00:00   56    JARDIM DA PENHA            0   \n",
       "2 2016-04-29 00:00:00+00:00   62      MATA DA PRAIA            0   \n",
       "3 2016-04-29 00:00:00+00:00    8  PONTAL DE CAMBURI            0   \n",
       "4 2016-04-29 00:00:00+00:00   56    JARDIM DA PENHA            0   \n",
       "\n",
       "   Hipertension  Diabetes  Alcoholism  Handcap  SMS_received  Show  \n",
       "0             1         0           0        0             0     1  \n",
       "1             0         0           0        0             0     1  \n",
       "2             0         0           0        0             0     1  \n",
       "3             0         0           0        0             0     1  \n",
       "4             1         1           0        0             0     1  "
      ]
     },
     "execution_count": 11,
     "metadata": {},
     "output_type": "execute_result"
    }
   ],
   "source": [
    "df.head()"
   ]
  },
  {
   "cell_type": "code",
   "execution_count": 12,
   "id": "1a3941c3",
   "metadata": {},
   "outputs": [
    {
     "name": "stdout",
     "output_type": "stream",
     "text": [
      "<class 'pandas.core.frame.DataFrame'>\n",
      "RangeIndex: 110527 entries, 0 to 110526\n",
      "Data columns (total 14 columns):\n",
      " #   Column          Non-Null Count   Dtype              \n",
      "---  ------          --------------   -----              \n",
      " 0   PatientId       110527 non-null  object             \n",
      " 1   AppointmentID   110527 non-null  object             \n",
      " 2   Gender          110527 non-null  object             \n",
      " 3   ScheduledDay    110527 non-null  datetime64[ns, UTC]\n",
      " 4   AppointmentDay  110527 non-null  datetime64[ns, UTC]\n",
      " 5   Age             110527 non-null  int64              \n",
      " 6   Neighbourhood   110527 non-null  object             \n",
      " 7   Scholarship     110527 non-null  int64              \n",
      " 8   Hipertension    110527 non-null  int64              \n",
      " 9   Diabetes        110527 non-null  int64              \n",
      " 10  Alcoholism      110527 non-null  int64              \n",
      " 11  Handcap         110527 non-null  int64              \n",
      " 12  SMS_received    110527 non-null  int64              \n",
      " 13  Show            110527 non-null  int64              \n",
      "dtypes: datetime64[ns, UTC](2), int64(8), object(4)\n",
      "memory usage: 11.8+ MB\n"
     ]
    }
   ],
   "source": [
    "df.info()"
   ]
  },
  {
   "cell_type": "code",
   "execution_count": 13,
   "id": "c413536f",
   "metadata": {},
   "outputs": [
    {
     "data": {
      "image/png": "[encoded data removed]",
      "text/plain": [
       "<Figure size 1440x1080 with 12 Axes>"
      ]
     },
     "metadata": {
      "needs_background": "light"
     },
     "output_type": "display_data"
    }
   ],
   "source": [
    "df.hist(figsize=(20,15))\n",
    "plt.suptitle('The histogram shows the number of each', fontsize=20);"
   ]
  },
  {
   "cell_type": "code",
   "execution_count": 14,
   "id": "66f5b8e8",
   "metadata": {},
   "outputs": [
    {
     "data": {
      "text/html": [
       "<div>\n",
       "<style scoped>\n",
       "    .dataframe tbody tr th:only-of-type {\n",
       "        vertical-align: middle;\n",
       "    }\n",
       "\n",
       "    .dataframe tbody tr th {\n",
       "        vertical-align: top;\n",
       "    }\n",
       "\n",
       "    .dataframe thead th {\n",
       "        text-align: right;\n",
       "    }\n",
       "</style>\n",
       "<table border=\"1\" class=\"dataframe\">\n",
       "  <thead>\n",
       "    <tr style=\"text-align: right;\">\n",
       "      <th></th>\n",
       "      <th>Age</th>\n",
       "      <th>Scholarship</th>\n",
       "      <th>Hipertension</th>\n",
       "      <th>Diabetes</th>\n",
       "      <th>Alcoholism</th>\n",
       "      <th>Handcap</th>\n",
       "      <th>SMS_received</th>\n",
       "      <th>Show</th>\n",
       "    </tr>\n",
       "  </thead>\n",
       "  <tbody>\n",
       "    <tr>\n",
       "      <th>count</th>\n",
       "      <td>110527.000000</td>\n",
       "      <td>110527.000000</td>\n",
       "      <td>110527.000000</td>\n",
       "      <td>110527.000000</td>\n",
       "      <td>110527.000000</td>\n",
       "      <td>110527.000000</td>\n",
       "      <td>110527.000000</td>\n",
       "      <td>110527.000000</td>\n",
       "    </tr>\n",
       "    <tr>\n",
       "      <th>mean</th>\n",
       "      <td>37.088874</td>\n",
       "      <td>0.098266</td>\n",
       "      <td>0.197246</td>\n",
       "      <td>0.071865</td>\n",
       "      <td>0.030400</td>\n",
       "      <td>0.022248</td>\n",
       "      <td>0.321026</td>\n",
       "      <td>0.798067</td>\n",
       "    </tr>\n",
       "    <tr>\n",
       "      <th>std</th>\n",
       "      <td>23.110205</td>\n",
       "      <td>0.297675</td>\n",
       "      <td>0.397921</td>\n",
       "      <td>0.258265</td>\n",
       "      <td>0.171686</td>\n",
       "      <td>0.161543</td>\n",
       "      <td>0.466873</td>\n",
       "      <td>0.401444</td>\n",
       "    </tr>\n",
       "    <tr>\n",
       "      <th>min</th>\n",
       "      <td>-1.000000</td>\n",
       "      <td>0.000000</td>\n",
       "      <td>0.000000</td>\n",
       "      <td>0.000000</td>\n",
       "      <td>0.000000</td>\n",
       "      <td>0.000000</td>\n",
       "      <td>0.000000</td>\n",
       "      <td>0.000000</td>\n",
       "    </tr>\n",
       "    <tr>\n",
       "      <th>25%</th>\n",
       "      <td>18.000000</td>\n",
       "      <td>0.000000</td>\n",
       "      <td>0.000000</td>\n",
       "      <td>0.000000</td>\n",
       "      <td>0.000000</td>\n",
       "      <td>0.000000</td>\n",
       "      <td>0.000000</td>\n",
       "      <td>1.000000</td>\n",
       "    </tr>\n",
       "    <tr>\n",
       "      <th>50%</th>\n",
       "      <td>37.000000</td>\n",
       "      <td>0.000000</td>\n",
       "      <td>0.000000</td>\n",
       "      <td>0.000000</td>\n",
       "      <td>0.000000</td>\n",
       "      <td>0.000000</td>\n",
       "      <td>0.000000</td>\n",
       "      <td>1.000000</td>\n",
       "    </tr>\n",
       "    <tr>\n",
       "      <th>75%</th>\n",
       "      <td>55.000000</td>\n",
       "      <td>0.000000</td>\n",
       "      <td>0.000000</td>\n",
       "      <td>0.000000</td>\n",
       "      <td>0.000000</td>\n",
       "      <td>0.000000</td>\n",
       "      <td>1.000000</td>\n",
       "      <td>1.000000</td>\n",
       "    </tr>\n",
       "    <tr>\n",
       "      <th>max</th>\n",
       "      <td>115.000000</td>\n",
       "      <td>1.000000</td>\n",
       "      <td>1.000000</td>\n",
       "      <td>1.000000</td>\n",
       "      <td>1.000000</td>\n",
       "      <td>4.000000</td>\n",
       "      <td>1.000000</td>\n",
       "      <td>1.000000</td>\n",
       "    </tr>\n",
       "  </tbody>\n",
       "</table>\n",
       "</div>"
      ],
      "text/plain": [
       "                 Age    Scholarship   Hipertension       Diabetes  \\\n",
       "count  110527.000000  110527.000000  110527.000000  110527.000000   \n",
       "mean       37.088874       0.098266       0.197246       0.071865   \n",
       "std        23.110205       0.297675       0.397921       0.258265   \n",
       "min        -1.000000       0.000000       0.000000       0.000000   \n",
       "25%        18.000000       0.000000       0.000000       0.000000   \n",
       "50%        37.000000       0.000000       0.000000       0.000000   \n",
       "75%        55.000000       0.000000       0.000000       0.000000   \n",
       "max       115.000000       1.000000       1.000000       1.000000   \n",
       "\n",
       "          Alcoholism        Handcap   SMS_received           Show  \n",
       "count  110527.000000  110527.000000  110527.000000  110527.000000  \n",
       "mean        0.030400       0.022248       0.321026       0.798067  \n",
       "std         0.171686       0.161543       0.466873       0.401444  \n",
       "min         0.000000       0.000000       0.000000       0.000000  \n",
       "25%         0.000000       0.000000       0.000000       1.000000  \n",
       "50%         0.000000       0.000000       0.000000       1.000000  \n",
       "75%         0.000000       0.000000       1.000000       1.000000  \n",
       "max         1.000000       4.000000       1.000000       1.000000  "
      ]
     },
     "execution_count": 14,
     "metadata": {},
     "output_type": "execute_result"
    }
   ],
   "source": [
    "df.describe()"
   ]
  },
  {
   "cell_type": "code",
   "execution_count": 15,
   "id": "c69c7857",
   "metadata": {},
   "outputs": [
    {
     "data": {
      "image/png": "[encoded data removed]",
      "text/plain": [
       "<Figure size 432x288 with 1 Axes>"
      ]
     },
     "metadata": {
      "needs_background": "light"
     },
     "output_type": "display_data"
    }
   ],
   "source": [
    "df.Age.plot.box();# dealing with the age anomaly"
   ]
  },
  {
   "cell_type": "code",
   "execution_count": 16,
   "id": "b18ff0c8",
   "metadata": {},
   "outputs": [
    {
     "data": {
      "text/html": [
       "<div>\n",
       "<style scoped>\n",
       "    .dataframe tbody tr th:only-of-type {\n",
       "        vertical-align: middle;\n",
       "    }\n",
       "\n",
       "    .dataframe tbody tr th {\n",
       "        vertical-align: top;\n",
       "    }\n",
       "\n",
       "    .dataframe thead th {\n",
       "        text-align: right;\n",
       "    }\n",
       "</style>\n",
       "<table border=\"1\" class=\"dataframe\">\n",
       "  <thead>\n",
       "    <tr style=\"text-align: right;\">\n",
       "      <th></th>\n",
       "      <th>PatientId</th>\n",
       "      <th>AppointmentID</th>\n",
       "      <th>Gender</th>\n",
       "      <th>ScheduledDay</th>\n",
       "      <th>AppointmentDay</th>\n",
       "      <th>Age</th>\n",
       "      <th>Neighbourhood</th>\n",
       "      <th>Scholarship</th>\n",
       "      <th>Hipertension</th>\n",
       "      <th>Diabetes</th>\n",
       "      <th>Alcoholism</th>\n",
       "      <th>Handcap</th>\n",
       "      <th>SMS_received</th>\n",
       "      <th>Show</th>\n",
       "    </tr>\n",
       "  </thead>\n",
       "  <tbody>\n",
       "    <tr>\n",
       "      <th>99832</th>\n",
       "      <td>465943158731293.0</td>\n",
       "      <td>5775010</td>\n",
       "      <td>F</td>\n",
       "      <td>2016-06-06 08:58:13+00:00</td>\n",
       "      <td>2016-06-06 00:00:00+00:00</td>\n",
       "      <td>-1</td>\n",
       "      <td>ROMÃO</td>\n",
       "      <td>0</td>\n",
       "      <td>0</td>\n",
       "      <td>0</td>\n",
       "      <td>0</td>\n",
       "      <td>0</td>\n",
       "      <td>0</td>\n",
       "      <td>1</td>\n",
       "    </tr>\n",
       "  </tbody>\n",
       "</table>\n",
       "</div>"
      ],
      "text/plain": [
       "               PatientId AppointmentID Gender              ScheduledDay  \\\n",
       "99832  465943158731293.0       5775010      F 2016-06-06 08:58:13+00:00   \n",
       "\n",
       "                 AppointmentDay  Age Neighbourhood  Scholarship  Hipertension  \\\n",
       "99832 2016-06-06 00:00:00+00:00   -1         ROMÃO            0             0   \n",
       "\n",
       "       Diabetes  Alcoholism  Handcap  SMS_received  Show  \n",
       "99832         0           0        0             0     1  "
      ]
     },
     "execution_count": 16,
     "metadata": {},
     "output_type": "execute_result"
    }
   ],
   "source": [
    "df[df['Age'] < 0 ] "
   ]
  },
  {
   "cell_type": "code",
   "execution_count": 17,
   "id": "2e34d4e1",
   "metadata": {},
   "outputs": [],
   "source": [
    "# droping the negative age value \n",
    "df = df.drop([99832])"
   ]
  },
  {
   "cell_type": "code",
   "execution_count": 18,
   "id": "5bc746bb",
   "metadata": {},
   "outputs": [
    {
     "data": {
      "text/html": [
       "<div>\n",
       "<style scoped>\n",
       "    .dataframe tbody tr th:only-of-type {\n",
       "        vertical-align: middle;\n",
       "    }\n",
       "\n",
       "    .dataframe tbody tr th {\n",
       "        vertical-align: top;\n",
       "    }\n",
       "\n",
       "    .dataframe thead th {\n",
       "        text-align: right;\n",
       "    }\n",
       "</style>\n",
       "<table border=\"1\" class=\"dataframe\">\n",
       "  <thead>\n",
       "    <tr style=\"text-align: right;\">\n",
       "      <th></th>\n",
       "      <th>PatientId</th>\n",
       "      <th>AppointmentID</th>\n",
       "      <th>Gender</th>\n",
       "      <th>ScheduledDay</th>\n",
       "      <th>AppointmentDay</th>\n",
       "      <th>Age</th>\n",
       "      <th>Neighbourhood</th>\n",
       "      <th>Scholarship</th>\n",
       "      <th>Hipertension</th>\n",
       "      <th>Diabetes</th>\n",
       "      <th>Alcoholism</th>\n",
       "      <th>Handcap</th>\n",
       "      <th>SMS_received</th>\n",
       "      <th>Show</th>\n",
       "    </tr>\n",
       "  </thead>\n",
       "  <tbody>\n",
       "  </tbody>\n",
       "</table>\n",
       "</div>"
      ],
      "text/plain": [
       "Empty DataFrame\n",
       "Columns: [PatientId, AppointmentID, Gender, ScheduledDay, AppointmentDay, Age, Neighbourhood, Scholarship, Hipertension, Diabetes, Alcoholism, Handcap, SMS_received, Show]\n",
       "Index: []"
      ]
     },
     "execution_count": 18,
     "metadata": {},
     "output_type": "execute_result"
    }
   ],
   "source": [
    "df[df['Age'] < 0 ] # dropping succesful\n"
   ]
  },
  {
   "cell_type": "markdown",
   "id": "ea789632",
   "metadata": {},
   "source": [
    "## Observation\n",
    "\n",
    "  \n",
    "\n",
    "1. We have ages from -1 to 115, so we have a wide range of ages to investigate(negative age values  not valid that must be drop).\n",
    "\n",
    "2. In the gender column, there are two values, F, M, while the most common is the value F, so it turns out that women are more than men\n",
    "\n",
    "3. \"Scholarship\", \"Hipertension\", \"Diabetes\", \"Alcoholism\", \"Handcap\", and \"SMS_received\" are encoded in form of zeros and ones, thats why it has type of int64, and appears like a continous data type.\n",
    "\n",
    "4. 'Show' has 2 unique values `yes` or `No` and the most frequent one is 'No' which means that most of the patients show up on their appointments.\n",
    "\n"
   ]
  },
  {
   "cell_type": "markdown",
   "id": "40f02d60",
   "metadata": {},
   "source": [
    "### First Analysis\n",
    "\n",
    "* Relating the `Gender` feature to the Target (`Show`) feature : \n",
    "* To see if certain gender has more commitment to medical Appoitment than the other one?\n",
    "\n"
   ]
  },
  {
   "cell_type": "code",
   "execution_count": 19,
   "id": "bc997c13",
   "metadata": {},
   "outputs": [
    {
     "data": {
      "text/plain": [
       "F    71839\n",
       "M    38687\n",
       "Name: Gender, dtype: int64"
      ]
     },
     "execution_count": 19,
     "metadata": {},
     "output_type": "execute_result"
    }
   ],
   "source": [
    "df['Gender'].value_counts()"
   ]
  },
  {
   "cell_type": "code",
   "execution_count": 20,
   "id": "8f38167f",
   "metadata": {},
   "outputs": [
    {
     "data": {
      "image/png": "[encoded data removed]",
      "text/plain": [
       "<Figure size 360x360 with 1 Axes>"
      ]
     },
     "metadata": {},
     "output_type": "display_data"
    }
   ],
   "source": [
    "df['Gender'].value_counts().plot(kind='pie',autopct='%.2f', figsize=(5, 5));"
   ]
  },
  {
   "cell_type": "markdown",
   "id": "81f70a15",
   "metadata": {},
   "source": [
    "This shows we have more Female than Male"
   ]
  },
  {
   "cell_type": "code",
   "execution_count": 21,
   "id": "44910bcb",
   "metadata": {},
   "outputs": [
    {
     "data": {
      "text/plain": [
       "Gender  Show\n",
       "F       1       57245\n",
       "M       1       30962\n",
       "F       0       14594\n",
       "M       0        7725\n",
       "dtype: int64"
      ]
     },
     "execution_count": 21,
     "metadata": {},
     "output_type": "execute_result"
    }
   ],
   "source": [
    "df[['Gender','Show' ]].value_counts()# Pairing Gender with Show "
   ]
  },
  {
   "cell_type": "code",
   "execution_count": 22,
   "id": "faf41fdc",
   "metadata": {},
   "outputs": [
    {
     "data": {
      "image/png": "[encoded data removed]",
      "text/plain": [
       "<Figure size 432x288 with 1 Axes>"
      ]
     },
     "metadata": {
      "needs_background": "light"
     },
     "output_type": "display_data"
    }
   ],
   "source": [
    "ax = sns.countplot(x=df.Show, hue=df.Gender, data=df)\n",
    "ax.set_title(\"Show/NoShow according to gender\", size='16')\n",
    "plt.show()"
   ]
  },
  {
   "cell_type": "code",
   "execution_count": 23,
   "id": "d399ec8c",
   "metadata": {},
   "outputs": [
    {
     "data": {
      "text/html": [
       "<div>\n",
       "<style scoped>\n",
       "    .dataframe tbody tr th:only-of-type {\n",
       "        vertical-align: middle;\n",
       "    }\n",
       "\n",
       "    .dataframe tbody tr th {\n",
       "        vertical-align: top;\n",
       "    }\n",
       "\n",
       "    .dataframe thead th {\n",
       "        text-align: right;\n",
       "    }\n",
       "</style>\n",
       "<table border=\"1\" class=\"dataframe\">\n",
       "  <thead>\n",
       "    <tr style=\"text-align: right;\">\n",
       "      <th></th>\n",
       "      <th></th>\n",
       "      <th>PatientId</th>\n",
       "      <th>AppointmentID</th>\n",
       "      <th>ScheduledDay</th>\n",
       "      <th>AppointmentDay</th>\n",
       "      <th>Age</th>\n",
       "      <th>Neighbourhood</th>\n",
       "      <th>Scholarship</th>\n",
       "      <th>Hipertension</th>\n",
       "      <th>Diabetes</th>\n",
       "      <th>Alcoholism</th>\n",
       "      <th>Handcap</th>\n",
       "      <th>SMS_received</th>\n",
       "    </tr>\n",
       "    <tr>\n",
       "      <th>Gender</th>\n",
       "      <th>Show</th>\n",
       "      <th></th>\n",
       "      <th></th>\n",
       "      <th></th>\n",
       "      <th></th>\n",
       "      <th></th>\n",
       "      <th></th>\n",
       "      <th></th>\n",
       "      <th></th>\n",
       "      <th></th>\n",
       "      <th></th>\n",
       "      <th></th>\n",
       "      <th></th>\n",
       "    </tr>\n",
       "  </thead>\n",
       "  <tbody>\n",
       "    <tr>\n",
       "      <th rowspan=\"2\" valign=\"top\">F</th>\n",
       "      <th>0</th>\n",
       "      <td>14594</td>\n",
       "      <td>14594</td>\n",
       "      <td>14594</td>\n",
       "      <td>14594</td>\n",
       "      <td>14594</td>\n",
       "      <td>14594</td>\n",
       "      <td>14594</td>\n",
       "      <td>14594</td>\n",
       "      <td>14594</td>\n",
       "      <td>14594</td>\n",
       "      <td>14594</td>\n",
       "      <td>14594</td>\n",
       "    </tr>\n",
       "    <tr>\n",
       "      <th>1</th>\n",
       "      <td>57245</td>\n",
       "      <td>57245</td>\n",
       "      <td>57245</td>\n",
       "      <td>57245</td>\n",
       "      <td>57245</td>\n",
       "      <td>57245</td>\n",
       "      <td>57245</td>\n",
       "      <td>57245</td>\n",
       "      <td>57245</td>\n",
       "      <td>57245</td>\n",
       "      <td>57245</td>\n",
       "      <td>57245</td>\n",
       "    </tr>\n",
       "    <tr>\n",
       "      <th rowspan=\"2\" valign=\"top\">M</th>\n",
       "      <th>0</th>\n",
       "      <td>7725</td>\n",
       "      <td>7725</td>\n",
       "      <td>7725</td>\n",
       "      <td>7725</td>\n",
       "      <td>7725</td>\n",
       "      <td>7725</td>\n",
       "      <td>7725</td>\n",
       "      <td>7725</td>\n",
       "      <td>7725</td>\n",
       "      <td>7725</td>\n",
       "      <td>7725</td>\n",
       "      <td>7725</td>\n",
       "    </tr>\n",
       "    <tr>\n",
       "      <th>1</th>\n",
       "      <td>30962</td>\n",
       "      <td>30962</td>\n",
       "      <td>30962</td>\n",
       "      <td>30962</td>\n",
       "      <td>30962</td>\n",
       "      <td>30962</td>\n",
       "      <td>30962</td>\n",
       "      <td>30962</td>\n",
       "      <td>30962</td>\n",
       "      <td>30962</td>\n",
       "      <td>30962</td>\n",
       "      <td>30962</td>\n",
       "    </tr>\n",
       "  </tbody>\n",
       "</table>\n",
       "</div>"
      ],
      "text/plain": [
       "             PatientId  AppointmentID  ScheduledDay  AppointmentDay    Age  \\\n",
       "Gender Show                                                                  \n",
       "F      0         14594          14594         14594           14594  14594   \n",
       "       1         57245          57245         57245           57245  57245   \n",
       "M      0          7725           7725          7725            7725   7725   \n",
       "       1         30962          30962         30962           30962  30962   \n",
       "\n",
       "             Neighbourhood  Scholarship  Hipertension  Diabetes  Alcoholism  \\\n",
       "Gender Show                                                                   \n",
       "F      0             14594        14594         14594     14594       14594   \n",
       "       1             57245        57245         57245     57245       57245   \n",
       "M      0              7725         7725          7725      7725        7725   \n",
       "       1             30962        30962         30962     30962       30962   \n",
       "\n",
       "             Handcap  SMS_received  \n",
       "Gender Show                         \n",
       "F      0       14594         14594  \n",
       "       1       57245         57245  \n",
       "M      0        7725          7725  \n",
       "       1       30962         30962  "
      ]
     },
     "execution_count": 23,
     "metadata": {},
     "output_type": "execute_result"
    }
   ],
   "source": [
    "x = df.groupby(['Gender','Show']).count()\n",
    "x.head(4)"
   ]
  },
  {
   "cell_type": "markdown",
   "id": "175f67c0",
   "metadata": {},
   "source": [
    "\n",
    "Observation:\n",
    "\n",
    "* From the bar graph the number  is high in terms of men and women, especially women more\n",
    "\n",
    "* We need to know the comparison between the number of patients and the percentage of attendance or non-attendance\n",
    "\n"
   ]
  },
  {
   "cell_type": "code",
   "execution_count": 24,
   "id": "67438aeb",
   "metadata": {},
   "outputs": [],
   "source": [
    "df_male = df[df['Gender'] == 'M'] #Male data separated from gender\n",
    "df_m_count = df_male['PatientId'].count() #Calculate the number of male data"
   ]
  },
  {
   "cell_type": "code",
   "execution_count": 25,
   "id": "cd3dc5c6",
   "metadata": {},
   "outputs": [
    {
     "data": {
      "text/html": [
       "<div>\n",
       "<style scoped>\n",
       "    .dataframe tbody tr th:only-of-type {\n",
       "        vertical-align: middle;\n",
       "    }\n",
       "\n",
       "    .dataframe tbody tr th {\n",
       "        vertical-align: top;\n",
       "    }\n",
       "\n",
       "    .dataframe thead th {\n",
       "        text-align: right;\n",
       "    }\n",
       "</style>\n",
       "<table border=\"1\" class=\"dataframe\">\n",
       "  <thead>\n",
       "    <tr style=\"text-align: right;\">\n",
       "      <th></th>\n",
       "      <th>PatientId</th>\n",
       "      <th>AppointmentID</th>\n",
       "      <th>Gender</th>\n",
       "      <th>ScheduledDay</th>\n",
       "      <th>AppointmentDay</th>\n",
       "      <th>Age</th>\n",
       "      <th>Neighbourhood</th>\n",
       "      <th>Scholarship</th>\n",
       "      <th>Hipertension</th>\n",
       "      <th>Diabetes</th>\n",
       "      <th>Alcoholism</th>\n",
       "      <th>Handcap</th>\n",
       "      <th>SMS_received</th>\n",
       "      <th>Show</th>\n",
       "    </tr>\n",
       "  </thead>\n",
       "  <tbody>\n",
       "    <tr>\n",
       "      <th>1</th>\n",
       "      <td>558997776694438.0</td>\n",
       "      <td>5642503</td>\n",
       "      <td>M</td>\n",
       "      <td>2016-04-29 16:08:27+00:00</td>\n",
       "      <td>2016-04-29 00:00:00+00:00</td>\n",
       "      <td>56</td>\n",
       "      <td>JARDIM DA PENHA</td>\n",
       "      <td>0</td>\n",
       "      <td>0</td>\n",
       "      <td>0</td>\n",
       "      <td>0</td>\n",
       "      <td>0</td>\n",
       "      <td>0</td>\n",
       "      <td>1</td>\n",
       "    </tr>\n",
       "    <tr>\n",
       "      <th>13</th>\n",
       "      <td>911394617215919.0</td>\n",
       "      <td>5636249</td>\n",
       "      <td>M</td>\n",
       "      <td>2016-04-28 14:52:07+00:00</td>\n",
       "      <td>2016-04-29 00:00:00+00:00</td>\n",
       "      <td>28</td>\n",
       "      <td>NOVA PALESTINA</td>\n",
       "      <td>0</td>\n",
       "      <td>0</td>\n",
       "      <td>0</td>\n",
       "      <td>0</td>\n",
       "      <td>0</td>\n",
       "      <td>0</td>\n",
       "      <td>1</td>\n",
       "    </tr>\n",
       "    <tr>\n",
       "      <th>16</th>\n",
       "      <td>84574392942817.0</td>\n",
       "      <td>5633121</td>\n",
       "      <td>M</td>\n",
       "      <td>2016-04-28 08:51:47+00:00</td>\n",
       "      <td>2016-04-29 00:00:00+00:00</td>\n",
       "      <td>50</td>\n",
       "      <td>NOVA PALESTINA</td>\n",
       "      <td>0</td>\n",
       "      <td>0</td>\n",
       "      <td>0</td>\n",
       "      <td>0</td>\n",
       "      <td>0</td>\n",
       "      <td>0</td>\n",
       "      <td>1</td>\n",
       "    </tr>\n",
       "    <tr>\n",
       "      <th>25</th>\n",
       "      <td>5819369978796.0</td>\n",
       "      <td>5624020</td>\n",
       "      <td>M</td>\n",
       "      <td>2016-04-26 15:04:17+00:00</td>\n",
       "      <td>2016-04-29 00:00:00+00:00</td>\n",
       "      <td>46</td>\n",
       "      <td>CONQUISTA</td>\n",
       "      <td>0</td>\n",
       "      <td>1</td>\n",
       "      <td>0</td>\n",
       "      <td>0</td>\n",
       "      <td>0</td>\n",
       "      <td>1</td>\n",
       "      <td>1</td>\n",
       "    </tr>\n",
       "  </tbody>\n",
       "</table>\n",
       "</div>"
      ],
      "text/plain": [
       "            PatientId AppointmentID Gender              ScheduledDay  \\\n",
       "1   558997776694438.0       5642503      M 2016-04-29 16:08:27+00:00   \n",
       "13  911394617215919.0       5636249      M 2016-04-28 14:52:07+00:00   \n",
       "16   84574392942817.0       5633121      M 2016-04-28 08:51:47+00:00   \n",
       "25    5819369978796.0       5624020      M 2016-04-26 15:04:17+00:00   \n",
       "\n",
       "              AppointmentDay  Age    Neighbourhood  Scholarship  Hipertension  \\\n",
       "1  2016-04-29 00:00:00+00:00   56  JARDIM DA PENHA            0             0   \n",
       "13 2016-04-29 00:00:00+00:00   28   NOVA PALESTINA            0             0   \n",
       "16 2016-04-29 00:00:00+00:00   50   NOVA PALESTINA            0             0   \n",
       "25 2016-04-29 00:00:00+00:00   46        CONQUISTA            0             1   \n",
       "\n",
       "    Diabetes  Alcoholism  Handcap  SMS_received  Show  \n",
       "1          0           0        0             0     1  \n",
       "13         0           0        0             0     1  \n",
       "16         0           0        0             0     1  \n",
       "25         0           0        0             1     1  "
      ]
     },
     "execution_count": 25,
     "metadata": {},
     "output_type": "execute_result"
    }
   ],
   "source": [
    "male_show = df_male[df_male['Show'] == 1] ##new dataframe holds male who showed up only.\n",
    "male_show.head(4)"
   ]
  },
  {
   "cell_type": "code",
   "execution_count": 26,
   "id": "715776d5",
   "metadata": {},
   "outputs": [
    {
     "data": {
      "text/plain": [
       "1    30962\n",
       "Name: Show, dtype: int64"
      ]
     },
     "execution_count": 26,
     "metadata": {},
     "output_type": "execute_result"
    }
   ],
   "source": [
    "count_m_df = male_show['Show'].value_counts() #count of males who show\n",
    "count_m_df"
   ]
  },
  {
   "cell_type": "code",
   "execution_count": 27,
   "id": "d582124e",
   "metadata": {},
   "outputs": [
    {
     "data": {
      "text/plain": [
       "1    80.032052\n",
       "Name: Show, dtype: float64"
      ]
     },
     "execution_count": 27,
     "metadata": {},
     "output_type": "execute_result"
    }
   ],
   "source": [
    "#calculate percentage of males who attend their appointments among all males in the data\n",
    "male_data = (count_m_df / df_m_count) * 100\n",
    "male_data"
   ]
  },
  {
   "cell_type": "markdown",
   "id": "de129701",
   "metadata": {},
   "source": [
    "Percentage attendance for  female"
   ]
  },
  {
   "cell_type": "code",
   "execution_count": 28,
   "id": "deae8f7e",
   "metadata": {},
   "outputs": [],
   "source": [
    "df_females = df[df['Gender'] == 'F']\n",
    "df_f_count = df_females['PatientId'].count()"
   ]
  },
  {
   "cell_type": "code",
   "execution_count": 29,
   "id": "95370efc",
   "metadata": {},
   "outputs": [],
   "source": [
    "females_show = df_females[df_females['Show'] == 1]"
   ]
  },
  {
   "cell_type": "code",
   "execution_count": 30,
   "id": "82014b4a",
   "metadata": {},
   "outputs": [
    {
     "data": {
      "text/plain": [
       "1    57245\n",
       "Name: Show, dtype: int64"
      ]
     },
     "execution_count": 30,
     "metadata": {},
     "output_type": "execute_result"
    }
   ],
   "source": [
    "count_f_df = females_show['Show'].value_counts()\n",
    "count_f_df"
   ]
  },
  {
   "cell_type": "code",
   "execution_count": 31,
   "id": "80e142dc",
   "metadata": {},
   "outputs": [
    {
     "data": {
      "text/plain": [
       "1    79.685129\n",
       "Name: Show, dtype: float64"
      ]
     },
     "execution_count": 31,
     "metadata": {},
     "output_type": "execute_result"
    }
   ],
   "source": [
    "females_data = count_f_df / df_f_count * 100\n",
    "females_data"
   ]
  },
  {
   "cell_type": "code",
   "execution_count": 32,
   "id": "c4e3d040",
   "metadata": {},
   "outputs": [
    {
     "data": {
      "text/html": [
       "<div>\n",
       "<style scoped>\n",
       "    .dataframe tbody tr th:only-of-type {\n",
       "        vertical-align: middle;\n",
       "    }\n",
       "\n",
       "    .dataframe tbody tr th {\n",
       "        vertical-align: top;\n",
       "    }\n",
       "\n",
       "    .dataframe thead th {\n",
       "        text-align: right;\n",
       "    }\n",
       "</style>\n",
       "<table border=\"1\" class=\"dataframe\">\n",
       "  <thead>\n",
       "    <tr style=\"text-align: right;\">\n",
       "      <th></th>\n",
       "      <th>percentage of male_show</th>\n",
       "      <th>percentage of female_show</th>\n",
       "    </tr>\n",
       "  </thead>\n",
       "  <tbody>\n",
       "    <tr>\n",
       "      <th>1</th>\n",
       "      <td>80.032052</td>\n",
       "      <td>79.685129</td>\n",
       "    </tr>\n",
       "  </tbody>\n",
       "</table>\n",
       "</div>"
      ],
      "text/plain": [
       "   percentage of male_show  percentage of female_show\n",
       "1                80.032052                  79.685129"
      ]
     },
     "execution_count": 32,
     "metadata": {},
     "output_type": "execute_result"
    }
   ],
   "source": [
    "x = pd.DataFrame({\"percentage of male_show\": male_data,\"percentage of female_show\": females_data})# dataframe for comparison\n",
    "x"
   ]
  },
  {
   "cell_type": "code",
   "execution_count": 33,
   "id": "fac49783",
   "metadata": {},
   "outputs": [
    {
     "data": {
      "image/png": "[encoded data removed]",
      "text/plain": [
       "<Figure size 432x288 with 1 Axes>"
      ]
     },
     "metadata": {
      "needs_background": "light"
     },
     "output_type": "display_data"
    }
   ],
   "source": [
    "x.plot.bar();"
   ]
  },
  {
   "cell_type": "markdown",
   "id": "861ef1fe",
   "metadata": {},
   "source": [
    "### Second Analysis\n",
    "\n",
    "* Relating the `Age` feature to the Target (`Show`) feature : \n",
    "* To see effect of AGE medical Appointment commitment\n",
    "\n"
   ]
  },
  {
   "cell_type": "code",
   "execution_count": 34,
   "id": "a66fb22f",
   "metadata": {},
   "outputs": [
    {
     "data": {
      "text/html": [
       "<div>\n",
       "<style scoped>\n",
       "    .dataframe tbody tr th:only-of-type {\n",
       "        vertical-align: middle;\n",
       "    }\n",
       "\n",
       "    .dataframe tbody tr th {\n",
       "        vertical-align: top;\n",
       "    }\n",
       "\n",
       "    .dataframe thead th {\n",
       "        text-align: right;\n",
       "    }\n",
       "</style>\n",
       "<table border=\"1\" class=\"dataframe\">\n",
       "  <thead>\n",
       "    <tr style=\"text-align: right;\">\n",
       "      <th></th>\n",
       "      <th>Age</th>\n",
       "      <th>Scholarship</th>\n",
       "      <th>Hipertension</th>\n",
       "      <th>Diabetes</th>\n",
       "      <th>Alcoholism</th>\n",
       "      <th>Handcap</th>\n",
       "      <th>SMS_received</th>\n",
       "      <th>Show</th>\n",
       "    </tr>\n",
       "  </thead>\n",
       "  <tbody>\n",
       "    <tr>\n",
       "      <th>count</th>\n",
       "      <td>110526.000000</td>\n",
       "      <td>110526.000000</td>\n",
       "      <td>110526.000000</td>\n",
       "      <td>110526.000000</td>\n",
       "      <td>110526.000000</td>\n",
       "      <td>110526.000000</td>\n",
       "      <td>110526.000000</td>\n",
       "      <td>110526.000000</td>\n",
       "    </tr>\n",
       "    <tr>\n",
       "      <th>mean</th>\n",
       "      <td>37.089219</td>\n",
       "      <td>0.098266</td>\n",
       "      <td>0.197248</td>\n",
       "      <td>0.071865</td>\n",
       "      <td>0.030400</td>\n",
       "      <td>0.022248</td>\n",
       "      <td>0.321029</td>\n",
       "      <td>0.798066</td>\n",
       "    </tr>\n",
       "    <tr>\n",
       "      <th>std</th>\n",
       "      <td>23.110026</td>\n",
       "      <td>0.297676</td>\n",
       "      <td>0.397923</td>\n",
       "      <td>0.258266</td>\n",
       "      <td>0.171686</td>\n",
       "      <td>0.161543</td>\n",
       "      <td>0.466874</td>\n",
       "      <td>0.401445</td>\n",
       "    </tr>\n",
       "    <tr>\n",
       "      <th>min</th>\n",
       "      <td>0.000000</td>\n",
       "      <td>0.000000</td>\n",
       "      <td>0.000000</td>\n",
       "      <td>0.000000</td>\n",
       "      <td>0.000000</td>\n",
       "      <td>0.000000</td>\n",
       "      <td>0.000000</td>\n",
       "      <td>0.000000</td>\n",
       "    </tr>\n",
       "    <tr>\n",
       "      <th>25%</th>\n",
       "      <td>18.000000</td>\n",
       "      <td>0.000000</td>\n",
       "      <td>0.000000</td>\n",
       "      <td>0.000000</td>\n",
       "      <td>0.000000</td>\n",
       "      <td>0.000000</td>\n",
       "      <td>0.000000</td>\n",
       "      <td>1.000000</td>\n",
       "    </tr>\n",
       "    <tr>\n",
       "      <th>50%</th>\n",
       "      <td>37.000000</td>\n",
       "      <td>0.000000</td>\n",
       "      <td>0.000000</td>\n",
       "      <td>0.000000</td>\n",
       "      <td>0.000000</td>\n",
       "      <td>0.000000</td>\n",
       "      <td>0.000000</td>\n",
       "      <td>1.000000</td>\n",
       "    </tr>\n",
       "    <tr>\n",
       "      <th>75%</th>\n",
       "      <td>55.000000</td>\n",
       "      <td>0.000000</td>\n",
       "      <td>0.000000</td>\n",
       "      <td>0.000000</td>\n",
       "      <td>0.000000</td>\n",
       "      <td>0.000000</td>\n",
       "      <td>1.000000</td>\n",
       "      <td>1.000000</td>\n",
       "    </tr>\n",
       "    <tr>\n",
       "      <th>max</th>\n",
       "      <td>115.000000</td>\n",
       "      <td>1.000000</td>\n",
       "      <td>1.000000</td>\n",
       "      <td>1.000000</td>\n",
       "      <td>1.000000</td>\n",
       "      <td>4.000000</td>\n",
       "      <td>1.000000</td>\n",
       "      <td>1.000000</td>\n",
       "    </tr>\n",
       "  </tbody>\n",
       "</table>\n",
       "</div>"
      ],
      "text/plain": [
       "                 Age    Scholarship   Hipertension       Diabetes  \\\n",
       "count  110526.000000  110526.000000  110526.000000  110526.000000   \n",
       "mean       37.089219       0.098266       0.197248       0.071865   \n",
       "std        23.110026       0.297676       0.397923       0.258266   \n",
       "min         0.000000       0.000000       0.000000       0.000000   \n",
       "25%        18.000000       0.000000       0.000000       0.000000   \n",
       "50%        37.000000       0.000000       0.000000       0.000000   \n",
       "75%        55.000000       0.000000       0.000000       0.000000   \n",
       "max       115.000000       1.000000       1.000000       1.000000   \n",
       "\n",
       "          Alcoholism        Handcap   SMS_received           Show  \n",
       "count  110526.000000  110526.000000  110526.000000  110526.000000  \n",
       "mean        0.030400       0.022248       0.321029       0.798066  \n",
       "std         0.171686       0.161543       0.466874       0.401445  \n",
       "min         0.000000       0.000000       0.000000       0.000000  \n",
       "25%         0.000000       0.000000       0.000000       1.000000  \n",
       "50%         0.000000       0.000000       0.000000       1.000000  \n",
       "75%         0.000000       0.000000       1.000000       1.000000  \n",
       "max         1.000000       4.000000       1.000000       1.000000  "
      ]
     },
     "execution_count": 34,
     "metadata": {},
     "output_type": "execute_result"
    }
   ],
   "source": [
    "df.describe()"
   ]
  },
  {
   "cell_type": "code",
   "execution_count": 35,
   "id": "8af53668",
   "metadata": {},
   "outputs": [
    {
     "name": "stdout",
     "output_type": "stream",
     "text": [
      "Show\n",
      "0    34.317667\n",
      "1    37.790504\n",
      "Name: Age, dtype: float64\n"
     ]
    }
   ],
   "source": [
    "avg_age=df.groupby('Show')['Age'].mean()\n",
    "print(avg_age)"
   ]
  },
  {
   "cell_type": "code",
   "execution_count": 60,
   "id": "84261cfd",
   "metadata": {},
   "outputs": [],
   "source": [
    "def plot(y1,ylabel1,title):\n",
    "    \n",
    "    '''\n",
    "    \n",
    "    Function to plot  bars in one chart. \n",
    "    y1  => Average or count of the groupby function\n",
    "    ylabel1 => plot y_ label\n",
    "    title => chart title\n",
    "    \n",
    "    \n",
    "    '''\n",
    "    x=[1,2]\n",
    "    y=y1.values\n",
    "    fig=plt.figure(figsize=(8,5))\n",
    "    plt.bar(x,y,width=0.3,edgecolor='red',facecolor='lightblue')\n",
    "    label=['NoShow','Show']\n",
    "    plt.xticks(x,label)\n",
    "    plt.xlabel('Showing & Not_showing')\n",
    "    plt.ylabel(ylabel1)\n",
    "    plt.title(title);"
   ]
  },
  {
   "cell_type": "code",
   "execution_count": 61,
   "id": "295495bb",
   "metadata": {},
   "outputs": [
    {
     "data": {
      "image/png": "[encoded data removed]",
      "text/plain": [
       "<Figure size 576x360 with 1 Axes>"
      ]
     },
     "metadata": {
      "needs_background": "light"
     },
     "output_type": "display_data"
    }
   ],
   "source": [
    "plot(avg_age,'Age','Average Age for Patients')#Vizualising"
   ]
  },
  {
   "cell_type": "markdown",
   "id": "bc859e34",
   "metadata": {},
   "source": [
    "Observations :\n",
    "    \n",
    "* The the average age of patient that show up for their appoiment is 37years old \n",
    "* The average age of patient that did not show up for their appoiment is 34years old\n",
    "* This implies older patient keep up with their appointment than the younger ones"
   ]
  },
  {
   "cell_type": "markdown",
   "id": "cf49d6c7",
   "metadata": {},
   "source": [
    "### Third Analysis\n",
    "\n",
    "* Relating the `Date` feature to the Target (`Show`) feature : \n",
    "* To see if certain Waiting days has more commitment to medical Appointment than the other one?\n"
   ]
  },
  {
   "cell_type": "code",
   "execution_count": 38,
   "id": "d2737118",
   "metadata": {},
   "outputs": [],
   "source": [
    "# Calculate waiting days before appointment\n",
    "df['WaitingDays'] = (df.AppointmentDay.dt.date) - (df.ScheduledDay.dt.date)#.dt.date to differ only date part"
   ]
  },
  {
   "cell_type": "code",
   "execution_count": 39,
   "id": "87215463",
   "metadata": {},
   "outputs": [],
   "source": [
    "df['WaitingDays'] = df.WaitingDays.dt.days #to convert column to numerical column contain number of days"
   ]
  },
  {
   "cell_type": "code",
   "execution_count": 40,
   "id": "b3872920",
   "metadata": {},
   "outputs": [
    {
     "data": {
      "text/plain": [
       "110517     0\n",
       "110518    41\n",
       "110519    41\n",
       "110520    35\n",
       "110521    35\n",
       "110522    35\n",
       "110523    35\n",
       "110524    41\n",
       "110525    41\n",
       "110526    41\n",
       "Name: WaitingDays, dtype: int64"
      ]
     },
     "execution_count": 40,
     "metadata": {},
     "output_type": "execute_result"
    }
   ],
   "source": [
    "df.WaitingDays.tail(10)"
   ]
  },
  {
   "cell_type": "code",
   "execution_count": 41,
   "id": "5d64064a",
   "metadata": {},
   "outputs": [
    {
     "data": {
      "text/plain": [
       "Show\n",
       "0    15.831489\n",
       "1     8.754759\n",
       "Name: WaitingDays, dtype: float64"
      ]
     },
     "execution_count": 41,
     "metadata": {},
     "output_type": "execute_result"
    }
   ],
   "source": [
    "avg_days = df.groupby(['Show'])['WaitingDays'].mean()\n",
    "avg_days"
   ]
  },
  {
   "cell_type": "code",
   "execution_count": 42,
   "id": "eba33c55",
   "metadata": {},
   "outputs": [
    {
     "data": {
      "image/png": "[encoded data removed]",
      "text/plain": [
       "<Figure size 576x360 with 1 Axes>"
      ]
     },
     "metadata": {
      "needs_background": "light"
     },
     "output_type": "display_data"
    }
   ],
   "source": [
    "plot(avg_days,'Waiting Days','Average Waiting Days for Patients')#Vizualising"
   ]
  },
  {
   "cell_type": "markdown",
   "id": "42707cec",
   "metadata": {},
   "source": [
    "From above vizualisation:\n",
    "   * Waiting period between 0-8 days show up more as compared to days above 8days\n",
    "   * Suggest reducing patient waiting days to be less than 8days \n",
    "    "
   ]
  },
  {
   "cell_type": "markdown",
   "id": "d65c7c6d",
   "metadata": {},
   "source": [
    "### Fouth Analysis\n",
    "\n",
    "* Relating the `SMS_received` feature to the Target (`Show`) feature:\n",
    "* To see if patients with SMS_received has more commitment to medical schedules than the other one?\n"
   ]
  },
  {
   "cell_type": "code",
   "execution_count": 43,
   "id": "0935194d",
   "metadata": {},
   "outputs": [
    {
     "data": {
      "text/plain": [
       "SMS_received\n",
       "0    83.296466\n",
       "1    72.425455\n",
       "Name: Show, dtype: float64"
      ]
     },
     "execution_count": 43,
     "metadata": {},
     "output_type": "execute_result"
    }
   ],
   "source": [
    "mean_rate=df.groupby(['SMS_received'])['Show'].mean()# finding the mean of the patient that received SMS\n",
    "percentage_rate=mean_rate*100 \n",
    "percentage_rate"
   ]
  },
  {
   "cell_type": "code",
   "execution_count": 44,
   "id": "8f3df1f9",
   "metadata": {},
   "outputs": [
    {
     "data": {
      "image/png": "[encoded data removed]",
      "text/plain": [
       "<Figure size 576x360 with 1 Axes>"
      ]
     },
     "metadata": {
      "needs_background": "light"
     },
     "output_type": "display_data"
    }
   ],
   "source": [
    "plot(percentage_rate,'SMS Recieve','Percentage SMS Recieve  for Patients')#Vizualising"
   ]
  },
  {
   "cell_type": "code",
   "execution_count": 45,
   "id": "578e0a97",
   "metadata": {},
   "outputs": [
    {
     "name": "stdout",
     "output_type": "stream",
     "text": [
      "Percentage of show ups when patients have SMS_received is 23.25%, while not show ups is 8.85%.\n"
     ]
    }
   ],
   "source": [
    "total = 110526 # from df.info() total records \n",
    "SMS_received_show = df.loc[(df['SMS_received'] == 1) & (df['Show']==1)]['PatientId'].count()\n",
    "SMS_received_No_show = df.loc[(df['SMS_received'] == 1) & (df['Show']==0)]['PatientId'].count()\n",
    "print(f\"Percentage of show ups when patients have SMS_received is {SMS_received_show*100/total:.2f}%, while not show ups is {SMS_received_No_show*100/total:.2f}%.\")"
   ]
  },
  {
   "cell_type": "code",
   "execution_count": 46,
   "id": "28918a40",
   "metadata": {},
   "outputs": [
    {
     "name": "stdout",
     "output_type": "stream",
     "text": [
      "Percentage of show ups when patients have no SMS_received is 56.56%, while not show ups is 11.34%.\n"
     ]
    }
   ],
   "source": [
    "total = 110526\n",
    "No_SMS_received_show = df.loc[(df['SMS_received'] == 0) & (df['Show']==1)]['PatientId'].count()\n",
    "No_SMS_received_No_show = df.loc[(df['SMS_received'] == 0) & (df['Show']==0)]['PatientId'].count()\n",
    "print(f\"Percentage of show ups when patients have no SMS_received is {No_SMS_received_show*100/total:.2f}%, while not show ups is {No_SMS_received_No_show*100/total:.2f}%.\")"
   ]
  },
  {
   "cell_type": "code",
   "execution_count": 47,
   "id": "f9ef81bc",
   "metadata": {},
   "outputs": [
    {
     "data": {
      "text/html": [
       "<div>\n",
       "<style scoped>\n",
       "    .dataframe tbody tr th:only-of-type {\n",
       "        vertical-align: middle;\n",
       "    }\n",
       "\n",
       "    .dataframe tbody tr th {\n",
       "        vertical-align: top;\n",
       "    }\n",
       "\n",
       "    .dataframe thead th {\n",
       "        text-align: right;\n",
       "    }\n",
       "</style>\n",
       "<table border=\"1\" class=\"dataframe\">\n",
       "  <thead>\n",
       "    <tr style=\"text-align: right;\">\n",
       "      <th></th>\n",
       "      <th>SMS_received</th>\n",
       "      <th>No_SMS_received</th>\n",
       "    </tr>\n",
       "  </thead>\n",
       "  <tbody>\n",
       "    <tr>\n",
       "      <th>1</th>\n",
       "      <td>23.250638</td>\n",
       "      <td>56.555923</td>\n",
       "    </tr>\n",
       "    <tr>\n",
       "      <th>0</th>\n",
       "      <td>8.852216</td>\n",
       "      <td>11.341223</td>\n",
       "    </tr>\n",
       "  </tbody>\n",
       "</table>\n",
       "</div>"
      ],
      "text/plain": [
       "   SMS_received  No_SMS_received\n",
       "1     23.250638        56.555923\n",
       "0      8.852216        11.341223"
      ]
     },
     "execution_count": 47,
     "metadata": {},
     "output_type": "execute_result"
    }
   ],
   "source": [
    "# Comparing the outcome of Show with or without Scholarship\n",
    "a=SMS_received_show*100/total\n",
    "b=SMS_received_No_show*100/total\n",
    "c =No_SMS_received_show*100/total\n",
    "d= No_SMS_received_No_show*100/total\n",
    "(a,b,c,d)\n",
    "\n",
    "SMS = pd.DataFrame({'SMS_received':[a,b],'No_SMS_received':[c,d]}, index=[1,0])# putting it into dataframe\n",
    "SMS"
   ]
  },
  {
   "cell_type": "markdown",
   "id": "65fadd5d",
   "metadata": {},
   "source": [
    "Statistically and vizualisation:\n",
    "\n",
    "   * Patient with SMS Received do not show up more as compared to not receiving SMS\n",
    "   * Suggest more SMS should be send out as to increase the awarness"
   ]
  },
  {
   "cell_type": "markdown",
   "id": "2df91702",
   "metadata": {},
   "source": [
    "### Fifth Analysis\n",
    "\n",
    "* Relating the `Scholarship` feature to the Target (`Show`) feature :\n",
    "* To see if patients with access to Scholarship has more commitment to medical schedules than the other one?"
   ]
  },
  {
   "cell_type": "code",
   "execution_count": 48,
   "id": "45010ca5",
   "metadata": {},
   "outputs": [
    {
     "data": {
      "text/plain": [
       "Scholarship\n",
       "0    99665\n",
       "1    10861\n",
       "Name: Show, dtype: int64"
      ]
     },
     "execution_count": 48,
     "metadata": {},
     "output_type": "execute_result"
    }
   ],
   "source": [
    "Scholarship_mean_rate=df.groupby(['Scholarship'])['Show'].count()\n",
    "Scholarship_mean_rate"
   ]
  },
  {
   "cell_type": "code",
   "execution_count": 49,
   "id": "25c76a12",
   "metadata": {},
   "outputs": [
    {
     "data": {
      "image/png": "[encoded data removed]",
      "text/plain": [
       "<Figure size 576x360 with 1 Axes>"
      ]
     },
     "metadata": {
      "needs_background": "light"
     },
     "output_type": "display_data"
    }
   ],
   "source": [
    "plot(Scholarship_mean_rate,'Scholarship','Number of Scholarship patients')# Vizualising "
   ]
  },
  {
   "cell_type": "code",
   "execution_count": 50,
   "id": "cd1957ca",
   "metadata": {},
   "outputs": [
    {
     "name": "stdout",
     "output_type": "stream",
     "text": [
      "Percentage of show ups when patients have Scholarship is 7.49%, while not show ups is 2.33%.\n"
     ]
    }
   ],
   "source": [
    "total = 110526 # from df.info()\n",
    "Scholarship_show = df.loc[(df['Scholarship'] == 1) & (df['Show']==1)]['PatientId'].count()\n",
    "Scholarship_No_show = df.loc[(df['Scholarship'] == 1) & (df['Show']==0)]['PatientId'].count()\n",
    "print(f\"Percentage of show ups when patients have Scholarship is {Scholarship_show*100/total:.2f}%, while not show ups is {Scholarship_No_show*100/total:.2f}%.\")"
   ]
  },
  {
   "cell_type": "code",
   "execution_count": 51,
   "id": "0e402db0",
   "metadata": {},
   "outputs": [
    {
     "name": "stdout",
     "output_type": "stream",
     "text": [
      "Percentage of show ups when patients have no Scholarship is 72.31%, while not show ups is 17.86%.\n"
     ]
    }
   ],
   "source": [
    "total = 110526\n",
    "No_Scholarship_show = df.loc[(df['Scholarship'] == 0) & (df['Show']==1)]['PatientId'].count()\n",
    "No_Scholarship_No_show = df.loc[(df['Scholarship'] == 0) & (df['Show']==0)]['PatientId'].count()\n",
    "print(f\"Percentage of show ups when patients have no Scholarship is {No_Scholarship_show*100/total:.2f}%, while not show ups is {No_Scholarship_No_show*100/total:.2f}%.\")"
   ]
  },
  {
   "cell_type": "code",
   "execution_count": 52,
   "id": "eef68871",
   "metadata": {},
   "outputs": [
    {
     "data": {
      "text/html": [
       "<div>\n",
       "<style scoped>\n",
       "    .dataframe tbody tr th:only-of-type {\n",
       "        vertical-align: middle;\n",
       "    }\n",
       "\n",
       "    .dataframe tbody tr th {\n",
       "        vertical-align: top;\n",
       "    }\n",
       "\n",
       "    .dataframe thead th {\n",
       "        text-align: right;\n",
       "    }\n",
       "</style>\n",
       "<table border=\"1\" class=\"dataframe\">\n",
       "  <thead>\n",
       "    <tr style=\"text-align: right;\">\n",
       "      <th></th>\n",
       "      <th>Scholarship</th>\n",
       "      <th>No_Scholarship</th>\n",
       "    </tr>\n",
       "  </thead>\n",
       "  <tbody>\n",
       "    <tr>\n",
       "      <th>1</th>\n",
       "      <td>7.494164</td>\n",
       "      <td>72.312397</td>\n",
       "    </tr>\n",
       "    <tr>\n",
       "      <th>0</th>\n",
       "      <td>2.332483</td>\n",
       "      <td>17.860956</td>\n",
       "    </tr>\n",
       "  </tbody>\n",
       "</table>\n",
       "</div>"
      ],
      "text/plain": [
       "   Scholarship  No_Scholarship\n",
       "1     7.494164       72.312397\n",
       "0     2.332483       17.860956"
      ]
     },
     "execution_count": 52,
     "metadata": {},
     "output_type": "execute_result"
    }
   ],
   "source": [
    "# Comparing the outcome of Show with or without Scholarship\n",
    "\n",
    "x1=Scholarship_show*100/total\n",
    "x2=Scholarship_No_show*100/total\n",
    "y1 =No_Scholarship_show*100/total\n",
    "y2= No_Scholarship_No_show*100/total\n",
    "\n",
    "Scholarship= pd.DataFrame({'Scholarship':[x1,x2],'No_Scholarship':[y1,y2]}, index=[1,0]) # putting it into dataframe\n",
    "Scholarship"
   ]
  },
  {
   "cell_type": "markdown",
   "id": "80bb3e8a",
   "metadata": {},
   "source": [
    "Statistically and vizualisation:\n",
    "\n",
    "   * Patient with access to the scholarsip do not show up more as compared to not having access to Scholarship\n",
    "   * Scholarship  has no effect on patient commitment to appoitment  as patient turn up more regaedless of the scholarship\n",
    "\n"
   ]
  },
  {
   "cell_type": "markdown",
   "id": "4b511ac6",
   "metadata": {},
   "source": [
    "### Final Analysis\n",
    "\n",
    "* Relating the `Diseases('Hipertension','Diabetes', 'Alcoholism', 'Handcap)` feature to the Target (`Show`) feature :\n",
    "* To see if patients with any of the diseases has more commitment to medical schedules than not having disease."
   ]
  },
  {
   "cell_type": "code",
   "execution_count": 53,
   "id": "5b9bdaa3",
   "metadata": {},
   "outputs": [
    {
     "data": {
      "text/plain": [
       "Hipertension    object\n",
       "Diabetes        object\n",
       "Alcoholism      object\n",
       "Handcap         object\n",
       "dtype: object"
      ]
     },
     "execution_count": 53,
     "metadata": {},
     "output_type": "execute_result"
    }
   ],
   "source": [
    "# Define: Changing datatypes of diseases columns from int to str:\n",
    "\n",
    "dtype_list= ['Hipertension','Diabetes', 'Alcoholism', 'Handcap']\n",
    "for col in dtype_list:\n",
    "    df[col]=df[col].astype('str')\n",
    "    \n",
    "df[['Hipertension','Diabetes', 'Alcoholism', 'Handcap']].dtypes"
   ]
  },
  {
   "cell_type": "code",
   "execution_count": 54,
   "id": "85d3dfd0",
   "metadata": {},
   "outputs": [
    {
     "data": {
      "text/html": [
       "<div>\n",
       "<style scoped>\n",
       "    .dataframe tbody tr th:only-of-type {\n",
       "        vertical-align: middle;\n",
       "    }\n",
       "\n",
       "    .dataframe tbody tr th {\n",
       "        vertical-align: top;\n",
       "    }\n",
       "\n",
       "    .dataframe thead th {\n",
       "        text-align: right;\n",
       "    }\n",
       "</style>\n",
       "<table border=\"1\" class=\"dataframe\">\n",
       "  <thead>\n",
       "    <tr style=\"text-align: right;\">\n",
       "      <th></th>\n",
       "      <th>Hipertension</th>\n",
       "      <th>Diabetes</th>\n",
       "      <th>Alcoholism</th>\n",
       "      <th>Handcap</th>\n",
       "    </tr>\n",
       "  </thead>\n",
       "  <tbody>\n",
       "    <tr>\n",
       "      <th>31442</th>\n",
       "      <td>0</td>\n",
       "      <td>0</td>\n",
       "      <td>0</td>\n",
       "      <td>0</td>\n",
       "    </tr>\n",
       "    <tr>\n",
       "      <th>19852</th>\n",
       "      <td>0</td>\n",
       "      <td>0</td>\n",
       "      <td>0</td>\n",
       "      <td>0</td>\n",
       "    </tr>\n",
       "    <tr>\n",
       "      <th>56401</th>\n",
       "      <td>0</td>\n",
       "      <td>0</td>\n",
       "      <td>0</td>\n",
       "      <td>0</td>\n",
       "    </tr>\n",
       "    <tr>\n",
       "      <th>60865</th>\n",
       "      <td>0</td>\n",
       "      <td>0</td>\n",
       "      <td>0</td>\n",
       "      <td>0</td>\n",
       "    </tr>\n",
       "    <tr>\n",
       "      <th>25891</th>\n",
       "      <td>0</td>\n",
       "      <td>0</td>\n",
       "      <td>0</td>\n",
       "      <td>0</td>\n",
       "    </tr>\n",
       "  </tbody>\n",
       "</table>\n",
       "</div>"
      ],
      "text/plain": [
       "      Hipertension Diabetes Alcoholism Handcap\n",
       "31442            0        0          0       0\n",
       "19852            0        0          0       0\n",
       "56401            0        0          0       0\n",
       "60865            0        0          0       0\n",
       "25891            0        0          0       0"
      ]
     },
     "execution_count": 54,
     "metadata": {},
     "output_type": "execute_result"
    }
   ],
   "source": [
    "df[['Hipertension','Diabetes', 'Alcoholism', 'Handcap']].sample(5)"
   ]
  },
  {
   "cell_type": "code",
   "execution_count": 55,
   "id": "28b1c9ff",
   "metadata": {},
   "outputs": [
    {
     "data": {
      "text/html": [
       "<div>\n",
       "<style scoped>\n",
       "    .dataframe tbody tr th:only-of-type {\n",
       "        vertical-align: middle;\n",
       "    }\n",
       "\n",
       "    .dataframe tbody tr th {\n",
       "        vertical-align: top;\n",
       "    }\n",
       "\n",
       "    .dataframe thead th {\n",
       "        text-align: right;\n",
       "    }\n",
       "</style>\n",
       "<table border=\"1\" class=\"dataframe\">\n",
       "  <thead>\n",
       "    <tr style=\"text-align: right;\">\n",
       "      <th></th>\n",
       "      <th>Hipertension</th>\n",
       "      <th>Diabetes</th>\n",
       "      <th>Alcoholism</th>\n",
       "      <th>Handcap</th>\n",
       "    </tr>\n",
       "  </thead>\n",
       "  <tbody>\n",
       "    <tr>\n",
       "      <th>79256</th>\n",
       "      <td></td>\n",
       "      <td></td>\n",
       "      <td></td>\n",
       "      <td></td>\n",
       "    </tr>\n",
       "  </tbody>\n",
       "</table>\n",
       "</div>"
      ],
      "text/plain": [
       "      Hipertension Diabetes Alcoholism Handcap\n",
       "79256                                         "
      ]
     },
     "execution_count": 55,
     "metadata": {},
     "output_type": "execute_result"
    }
   ],
   "source": [
    "# diseases columns (diabeats, alcoholism,etc) as they must be in only one column.\n",
    "\n",
    "# Replace values of 0 & 1 by the name of disease:\n",
    "merged= ['Hipertension','Diabetes', 'Alcoholism', 'Handcap']\n",
    "for column in merged:\n",
    "    df[column]= df[column].replace('0','')\n",
    "    df[column]= df[column].replace('1',' ' + column)\n",
    "    \n",
    "df[['Hipertension','Diabetes', 'Alcoholism', 'Handcap']].sample()"
   ]
  },
  {
   "cell_type": "code",
   "execution_count": 56,
   "id": "79b3826f",
   "metadata": {},
   "outputs": [
    {
     "data": {
      "text/html": [
       "<div>\n",
       "<style scoped>\n",
       "    .dataframe tbody tr th:only-of-type {\n",
       "        vertical-align: middle;\n",
       "    }\n",
       "\n",
       "    .dataframe tbody tr th {\n",
       "        vertical-align: top;\n",
       "    }\n",
       "\n",
       "    .dataframe thead th {\n",
       "        text-align: right;\n",
       "    }\n",
       "</style>\n",
       "<table border=\"1\" class=\"dataframe\">\n",
       "  <thead>\n",
       "    <tr style=\"text-align: right;\">\n",
       "      <th></th>\n",
       "      <th>Hipertension</th>\n",
       "      <th>Diabetes</th>\n",
       "      <th>Alcoholism</th>\n",
       "      <th>Handcap</th>\n",
       "      <th>Diseases</th>\n",
       "    </tr>\n",
       "  </thead>\n",
       "  <tbody>\n",
       "    <tr>\n",
       "      <th>0</th>\n",
       "      <td>Hipertension</td>\n",
       "      <td></td>\n",
       "      <td></td>\n",
       "      <td></td>\n",
       "      <td>hipertension</td>\n",
       "    </tr>\n",
       "    <tr>\n",
       "      <th>1</th>\n",
       "      <td></td>\n",
       "      <td></td>\n",
       "      <td></td>\n",
       "      <td></td>\n",
       "      <td></td>\n",
       "    </tr>\n",
       "    <tr>\n",
       "      <th>2</th>\n",
       "      <td></td>\n",
       "      <td></td>\n",
       "      <td></td>\n",
       "      <td></td>\n",
       "      <td></td>\n",
       "    </tr>\n",
       "    <tr>\n",
       "      <th>3</th>\n",
       "      <td></td>\n",
       "      <td></td>\n",
       "      <td></td>\n",
       "      <td></td>\n",
       "      <td></td>\n",
       "    </tr>\n",
       "    <tr>\n",
       "      <th>4</th>\n",
       "      <td>Hipertension</td>\n",
       "      <td>Diabetes</td>\n",
       "      <td></td>\n",
       "      <td></td>\n",
       "      <td>hipertension/diabetes</td>\n",
       "    </tr>\n",
       "  </tbody>\n",
       "</table>\n",
       "</div>"
      ],
      "text/plain": [
       "    Hipertension   Diabetes Alcoholism Handcap               Diseases\n",
       "0   Hipertension                                         hipertension\n",
       "1                                                                    \n",
       "2                                                                    \n",
       "3                                                                    \n",
       "4   Hipertension   Diabetes                     hipertension/diabetes"
      ]
     },
     "execution_count": 56,
     "metadata": {},
     "output_type": "execute_result"
    }
   ],
   "source": [
    "# Merge diseases column in one column called Diseases:\n",
    "\n",
    "df['Diseases']= df['Hipertension'] + df['Diabetes'] + df['Alcoholism'] + df['Handcap']\n",
    "df['Diseases']= df['Diseases'].str.lower().map(lambda x: x.strip().replace(' ','/'))\n",
    "    \n",
    "\n",
    "df[['Hipertension','Diabetes', 'Alcoholism', 'Handcap','Diseases']].head()"
   ]
  },
  {
   "cell_type": "code",
   "execution_count": 57,
   "id": "80fd359d",
   "metadata": {},
   "outputs": [
    {
     "data": {
      "text/plain": [
       "Index(['PatientId', 'AppointmentID', 'Gender', 'ScheduledDay',\n",
       "       'AppointmentDay', 'Age', 'Neighbourhood', 'Scholarship', 'SMS_received',\n",
       "       'Show', 'WaitingDays', 'Diseases'],\n",
       "      dtype='object')"
      ]
     },
     "execution_count": 57,
     "metadata": {},
     "output_type": "execute_result"
    }
   ],
   "source": [
    "# Drop 'Hipertension','Diabetes', 'Alcoholism', 'Handcap' columns \n",
    "\n",
    "df.drop(['Hipertension','Diabetes', 'Alcoholism', 'Handcap'],axis=1,inplace=True)\n",
    "\n",
    "df.columns"
   ]
  },
  {
   "cell_type": "code",
   "execution_count": 58,
   "id": "be69eb03",
   "metadata": {},
   "outputs": [
    {
     "data": {
      "text/plain": [
       "Show\n",
       "0    22319\n",
       "1    88207\n",
       "Name: Diseases, dtype: int64"
      ]
     },
     "execution_count": 58,
     "metadata": {},
     "output_type": "execute_result"
    }
   ],
   "source": [
    "Diseases_count = df.groupby('Show')['Diseases'].count()\n",
    "Diseases_count"
   ]
  },
  {
   "cell_type": "code",
   "execution_count": 59,
   "id": "13b0b240",
   "metadata": {},
   "outputs": [
    {
     "data": {
      "image/png": "[encoded data removed]",
      "text/plain": [
       "<Figure size 576x360 with 1 Axes>"
      ]
     },
     "metadata": {
      "needs_background": "light"
     },
     "output_type": "display_data"
    }
   ],
   "source": [
    "plot(Diseases_count,'Diseases_count','Number of Diseases patients')# Vizualising"
   ]
  },
  {
   "cell_type": "markdown",
   "id": "99724cfe",
   "metadata": {},
   "source": [
    "From the above vizualisation:\n",
    "\n",
    "   * Patient with one disease or the other show up more as compared to not having any disease"
   ]
  },
  {
   "cell_type": "markdown",
   "id": "639b6da7",
   "metadata": {},
   "source": [
    "# Conclusions"
   ]
  },
  {
   "cell_type": "markdown",
   "id": "d0478030",
   "metadata": {},
   "source": [
    "### Gender and Show Analysis\n",
    "\n",
    "* From the pie chart we see the number of female is almost twice of male\n",
    "\n",
    "* From the bar graph the number is high in terms of men and women, especially women more\n",
    "\n",
    "There was need  to know the comparison between the number of patients and the percentage of Show up or No show up\n",
    "Doing that we arrive at:\n",
    "\n",
    "   * percentage of Show up for male : 80.03%\n",
    "   * percentage of Show up for female:79.69%\n",
    "   \n",
    "The above result are relatively close which implies Gender did not have an effect on showing up or not."
   ]
  },
  {
   "cell_type": "markdown",
   "id": "36edf663",
   "metadata": {},
   "source": [
    "### Age Analysis\n",
    "    \n",
    "* The the average age of patient that show up for their appoiment is 37years old \n",
    "* The average age of patient that did not show up for their appoiment is 34years old\n",
    "* This implies older patient keep up with their appointment than the younger ones\n",
    "    "
   ]
  },
  {
   "cell_type": "markdown",
   "id": "9cda2a10",
   "metadata": {},
   "source": [
    "### Waiting Days Analysis\n",
    "\n",
    "* Waiting period between 0-8 days show up more as compared to days above 8days\n",
    "* As Duration increases, the ability of patients to show up on their appointments decreases.\n",
    "* Suggest reducing patient waiting days to be less than 8days\n",
    "    "
   ]
  },
  {
   "cell_type": "markdown",
   "id": "76f105dc",
   "metadata": {},
   "source": [
    "### SMS and Show Analysis\n",
    "\n",
    "* Patients who didn't receive the SMS showed up more than those who received it.\n",
    "* Patient with SMS Received do not show up more as compared to not receiving SMS\n",
    "* Suggest more SMS should be send out as to increase the awarness.\n"
   ]
  },
  {
   "cell_type": "markdown",
   "id": "75c65d6d",
   "metadata": {},
   "source": [
    "### Scholarship Analysis\n",
    "\n",
    "* Patient with access to the scholarsip do not show up more as compared to not having access to Scholarship\n",
    "* Percentage of show ups when patients have no Scholarship is 72.31%, while not show ups is 17.86%.\n",
    "* Scholarship  has no effect on patient commitment to appoitment  as patient turn up more regaedless of the scholarship\n"
   ]
  },
  {
   "cell_type": "markdown",
   "id": "3843fb16",
   "metadata": {},
   "source": [
    "### Diseases and Show Analysis\n",
    "\n",
    "* Patients who have diseases  (Diabetes, Hypertension,Alcoholism, handicaps) are more likely to show up. than whose have not."
   ]
  },
  {
   "cell_type": "code",
   "execution_count": null,
   "id": "4ecf44f8",
   "metadata": {},
   "outputs": [],
   "source": []
  }
 ],
 "metadata": {
  "kernelspec": {
   "display_name": "Python 3 (ipykernel)",
   "language": "python",
   "name": "python3"
  },
  "language_info": {
   "codemirror_mode": {
    "name": "ipython",
    "version": 3
   },
   "file_extension": ".py",
   "mimetype": "text/x-python",
   "name": "python",
   "nbconvert_exporter": "python",
   "pygments_lexer": "ipython3",
   "version": "3.9.12"
  }
 },
 "nbformat": 4,
 "nbformat_minor": 5
}
